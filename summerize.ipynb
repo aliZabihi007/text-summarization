{
 "cells": [
  {
   "cell_type": "code",
   "execution_count": 18,
   "metadata": {},
   "outputs": [
    {
     "name": "stderr",
     "output_type": "stream",
     "text": [
      "[nltk_data] Downloading package punkt to\n",
      "[nltk_data]     C:\\Users\\Ali\\AppData\\Roaming\\nltk_data...\n",
      "[nltk_data]   Unzipping tokenizers\\punkt.zip.\n"
     ]
    }
   ],
   "source": [
    "import  urllib.request\n",
    "import nltk\n",
    "nltk.download('punkt')\n",
    "from bs4 import BeautifulSoup\n",
    "from urllib.parse import quote\n",
    "from  nltk.tokenize import  sent_tokenize,word_tokenize\n",
    "from  heapq import nlargest\n",
    "from collections import defaultdict\n",
    "from nltk.probability import FreqDist\n",
    "import ssl\n"
   ]
  },
  {
   "cell_type": "code",
   "execution_count": 2,
   "metadata": {},
   "outputs": [],
   "source": [
    "#ssl._create_default_https_context = ssl._create_unverified_context\n",
    "articleurl=\"https://sokanacademy.com/blog/\" + quote(\"هوش-مصنوعی-چیست\")# فقط کافیه ادرس سایت را در این قسمت وارد کنید "
   ]
  },
  {
   "cell_type": "code",
   "execution_count": 6,
   "metadata": {},
   "outputs": [],
   "source": [
    "page=urllib.request.urlopen(articleurl).read().decode('utf-8','ignore')\n",
    "soup=BeautifulSoup(page,\"html.parser\")"
   ]
  },
  {
   "cell_type": "code",
   "execution_count": 8,
   "metadata": {},
   "outputs": [],
   "source": [
    "for script in soup({\"script\",\"style\"}):\n",
    "    script.decompose()"
   ]
  },
  {
   "cell_type": "code",
   "execution_count": 10,
   "metadata": {},
   "outputs": [],
   "source": [
    "text=' '.join(map(lambda p : p.text,soup.find_all(\"article\",{\"class\":\"article-content article-with-hljs\"})))"
   ]
  },
  {
   "cell_type": "code",
   "execution_count": 21,
   "metadata": {},
   "outputs": [
    {
     "data": {
      "text/plain": [
       "'تاریخچهٔ هوش مصنوعیتاریخچهٔ\\u200c هوش مصنوعی از آنجا شروع شد که دو پژوهشگر به نام\\u200cهای McCulloch و Pitts در سال ۱۹۴۳ مدلی از سلول\\u200cهای عصبی مصنوعی ارائه نمودند (سلول\\u200cهای عصبی مصنوعی، مشابه آنچه که در زیست\\u200cشناسی به سلول\\u200cهای عصبی طبیعی اطلاق می\\u200cشود، نورون نامیده می\\u200cشوند.)'"
      ]
     },
     "execution_count": 21,
     "metadata": {},
     "output_type": "execute_result"
    }
   ],
   "source": [
    "sents=sent_tokenize(text)\n",
    "sents[1]"
   ]
  },
  {
   "cell_type": "code",
   "execution_count": 22,
   "metadata": {},
   "outputs": [
    {
     "data": {
      "text/plain": [
       "['Artificial', 'Intelligence', 'یا', 'به', 'اختصار', 'AI']"
      ]
     },
     "execution_count": 22,
     "metadata": {},
     "output_type": "execute_result"
    }
   ],
   "source": [
    "word_sent=word_tokenize(text)\n",
    "word_sent[:6]"
   ]
  },
  {
   "cell_type": "code",
   "execution_count": 46,
   "metadata": {},
   "outputs": [],
   "source": [
    "stopword=[]\n",
    "file=open('stopword.txt',encoding='utf-8').read()# یک فایل کلمات توقف مناسب را انتخاب کنید \n",
    "[stopword.append(x) for x in file.split()]\n",
    "_stop=set(stopword)\n"
   ]
  },
  {
   "cell_type": "code",
   "execution_count": 47,
   "metadata": {},
   "outputs": [],
   "source": [
    "word_sent=[word for word in word_sent if word not in _stop]\n"
   ]
  },
  {
   "cell_type": "code",
   "execution_count": 48,
   "metadata": {},
   "outputs": [
    {
     "data": {
      "text/plain": [
       "FreqDist({'هوش': 55, 'مصنوعی': 48, 'زبان': 31, 'سال': 15, 'استدلال': 15, 'عصبی': 14, 'یادگیری': 13, 'کاربرد': 13, 'می\\u200cتوان': 12, 'نظر': 12, ...})"
      ]
     },
     "execution_count": 48,
     "metadata": {},
     "output_type": "execute_result"
    }
   ],
   "source": [
    "freq=FreqDist(word_sent)\n",
    "freq"
   ]
  },
  {
   "cell_type": "code",
   "execution_count": 60,
   "metadata": {},
   "outputs": [],
   "source": [
    "ranking=defaultdict(int)\n",
    "for i, sent in enumerate(sents):\n",
    "    for w in word_tokenize(sent):\n",
    "        if w in freq:\n",
    "            ranking[i] += freq[w]\n",
    "    #ranking[i] /= len(word_tokenize(sent))"
   ]
  },
  {
   "cell_type": "code",
   "execution_count": null,
   "metadata": {},
   "outputs": [],
   "source": []
  },
  {
   "cell_type": "code",
   "execution_count": 67,
   "metadata": {},
   "outputs": [
    {
     "data": {
      "text/plain": [
       "[105, 59, 82, 16, 48, 1, 6, 33, 37, 64]"
      ]
     },
     "execution_count": 67,
     "metadata": {},
     "output_type": "execute_result"
    }
   ],
   "source": [
    "sent_idx=nlargest(10,ranking,key=ranking.get)\n",
    "sent_idx"
   ]
  },
  {
   "cell_type": "code",
   "execution_count": 68,
   "metadata": {},
   "outputs": [
    {
     "name": "stdout",
     "output_type": "stream",
     "text": [
      "تاریخچهٔ هوش مصنوعیتاریخچهٔ‌ هوش مصنوعی از آنجا شروع شد که دو پژوهشگر به نام‌های McCulloch و Pitts در سال ۱۹۴۳ مدلی از سلول‌های عصبی مصنوعی ارائه نمودند (سلول‌های عصبی مصنوعی، مشابه آنچه که در زیست‌شناسی به سلول‌های عصبی طبیعی اطلاق می‌شود، نورون نامیده می‌شوند.)\n",
      "در سال ۱۹۵۸ فردی به نام John McCarthy یکی از زبان‌های برنامه‌نویسی تخصصی در صنعت هوش مصنوعی به نام LISP را ایجاد نمود و در سال ۱۹۶۵، پژوهشگری به نام Robinson یک روش استنتاجی را برای حل مسئله ارائه داد و در همین زمان بود که نخستین سیستم خبرهٔ مبتنی بر دانش به نام DENDRAL در دانشگاه Stanford توسعه یافت و در سال‌های بعد محققین دیگری سیستم خبرهٔ دیگری ساختند که در تشخیص عفونت‌های خونی کاربرد داشت.\n",
      "درآمدی بر اجزای یک سیستم مبتنی بر هوش مصنوعیدر ادامه ابتدا به بررسی‌ مفاهیم کاربردی در حوزهٔ هوش مصنوعی پرداخته سپس به روندها و اهداف این علم اشاره خواهیم نمود و در پایان برخی از کاربردهای روزمرهٔ هوش مصنوعی را مورد بررسی قرار خواهیم داد.\n",
      "در صنعت هوش مصنوعی پیشرفت‌های زیادی در زمینهٔ استدلال، به ویژه استدلال استنتاجی، صورت گرفته است اما استدلال فقط شامل استنباط کردن موضوعی از مجموعهٔ داده‌ها نیست بلکه این استنباط باید در راستای ارائهٔ راه‌حلی برای یک مسئله باشد و این یکی از دشوارترین چالش‌های پیش روی هوش مصنوعی است.\n",
      "تاکنون مسائل مختلفی با استفاده از سیستم‌های مبتنی بر هوش مصنوعی حل شده‌اند به طوری که می‌توان در یک بازی، پیش‌بینی حرکت بُرد یا مجموعه‌ای از حرکاتی که منجر به بُرد می‌شوند را به هوش مصنوعی واگذار کرد.\n",
      "روندها و اهداف کاربردی در هوش مصنوعیپژوهش‌های هوش مصنوعی از دو روند مجزا، و در برخی جنبه‌ها متقابل، پیروی می‌کنند که عبارتند از Symbolic (روش بالا به پایین) و Connectionist (روش پایین به بالا) که در روش سیمبولیک تلاش می‌شود فقط هوش و ادراک مغز از علائم و نمادها را شبیه‌سازی و تقلید نماید و به همین دلیل این روش را Symbolic می‌نامند اما روش کانکشنیست تلاش می‌کند تا با ایجاد شبکه‌های عصبی مصنوعی، ساختار مغز را شبیه‌سازی نماید و از این روی این روش Connectionist نامیده می‌شود.\n",
      "برخی از کاربردهای روزمرهٔ هوش مصنوعیهوش مصنوعی در صنعت، پزشکی،‌ آموزش، بانکداری، تجارت و بسیاری از زمینه‌های دیگر کاربرد دارد و به نظر به می‌رسد که هوش مصنوعی تا رسیدن به اهداف نهایی خود راه زیادی برای پیمودن دارد اما شاید جالب باشد اگر بدانید که هم‌اکنون نیز بسیاری از انسان‌ها در زندگی روزمرهٔ خود از هوش مصنوعی، دانسته یا ندانسته، استفاده می‌کنند که چند مورد از کاربردهای روزمرهٔ‌ هوش مصنوعی عبارتند از:\n",
      "- دستیار شخصی مجازی: Siri ،Google Now و Cortana دستیارهای شخصی هوشمندی هستند که به ترتیب در پلتفرم‌های اندروید، آی‌او‌اس و ویندوز در اختیار کاربران قرار دارند.\n",
      "در بازی‌های تک‌شخصیتی مانند Far Cry و Call of Duty نیز هوش مصنوعی کاربرد قابل‌توجهی دارد به طوری که در این بازی‌ها دشمنان شما که از هوش مصنوعی قدرت گرفته‌اند می‌توانند محیط خود را تحلیل نموده، اشیاء مورد نیاز خود را پیدا کنند و با نشان دادن واکنش‌های مناسب، جان خود را نجات دهند.\n",
      "- Python: این زبان نیز یکی از پرکاربردترین زبان‌ها در حوزهٔ هوش مصنوعی است و از دلایل محبوبیت این زبان در حوزهٔ هوش مصنوعی می‌توان به وجود لایبرری‌های کاربردی آن مانند Numpy (برای ایجاد قابلیت انجام محاسبات علمی)، Scypy (برای محاسبات پیشرفته) و Pybrain (برای استفاده در حوزهٔ یادگیری ماشینی) اشاره نمود که برای شروع یادگیری این زبان نیز می‌توانید به دورهٔ رایگان آموزش پایتون در سکان آکادمی مراجعه نمایید.\n",
      "در همین راستا اگر علاقمند به کسب اطلاعات بیشتر پیرامون هوش مصنوعی هستید، می‌توانید به پادکست‌های تخصصی زیر از رادیو فول‌استک سکان آکادمی نیز مراجعه نمایید:\n",
      "- علی امیری: متخصص هوش مصنوعی و یادگیری ماشینی در گوگل- محمود کریمیان: متخصص در حوزهٔ هوش مصنوعی- اسماعیل آتش‌پز گرگری: متخصص هوش‌مصنوعی، داده کاوی و دانش داده- سیدمصطفی کلامی هریس: یکی از دو بنیان‌گذار سازمان علمی-آموزشی فرادرس - زهرا نظری: محقق هوش مصنوعی در شرکت Spotify- نغمه غزاله: دکترای نوروساینس، متخصص ماشین لرنینگ و دیتا ساینس- مصطفی اجل‌لوییان: متخصص یادگیری ژرف، پردازش متن و پردازش زبان طبیعی- امیرحسین پی‌براه: فوق‌دکترای بیگ دیتا و متخصص سیستم‌های توزیع‌شده\n",
      "در پایان اگر علاقمند به دنبال کردن مباحث مرتبط با AI هستید، می‌توانید برچسب #هوش مصنوعی را در وبلاگ سکان آکادمی دنبال نمایید.\n"
     ]
    }
   ],
   "source": [
    " for j in sorted(sent_idx):\n",
    "        print(sents[j])"
   ]
  },
  {
   "cell_type": "code",
   "execution_count": null,
   "metadata": {},
   "outputs": [],
   "source": []
  }
 ],
 "metadata": {
  "kernelspec": {
   "display_name": "Python 3",
   "language": "python",
   "name": "python3"
  },
  "language_info": {
   "codemirror_mode": {
    "name": "ipython",
    "version": 3
   },
   "file_extension": ".py",
   "mimetype": "text/x-python",
   "name": "python",
   "nbconvert_exporter": "python",
   "pygments_lexer": "ipython3",
   "version": "3.8.5"
  }
 },
 "nbformat": 4,
 "nbformat_minor": 4
}
